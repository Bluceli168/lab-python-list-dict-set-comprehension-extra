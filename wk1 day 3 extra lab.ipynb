{
 "cells": [
  {
   "cell_type": "code",
   "execution_count": 40,
   "id": "1453a4f9-7c07-419c-baae-4668d7c3f605",
   "metadata": {},
   "outputs": [
    {
     "name": "stdout",
     "output_type": "stream",
     "text": [
      "[('a', 1), ('a', 2), ('b', 3), ('b', 4)]\n",
      "[(1, 3), (1, 4), (2, 3), (2, 4), (5, 7), (5, 8), (6, 7), (6, 8)]\n"
     ]
    },
    {
     "ename": "TypeError",
     "evalue": "'function' object is not subscriptable",
     "output_type": "error",
     "traceback": [
      "\u001b[1;31m---------------------------------------------------------------------------\u001b[0m",
      "\u001b[1;31mTypeError\u001b[0m                                 Traceback (most recent call last)",
      "Cell \u001b[1;32mIn[40], line 43\u001b[0m\n\u001b[0;32m     40\u001b[0m \u001b[38;5;28;01mdef\u001b[39;00m \u001b[38;5;21mpair_str\u001b[39m(str_list):\n\u001b[0;32m     41\u001b[0m     \u001b[38;5;28;01mreturn\u001b[39;00m{(x,y) \u001b[38;5;28;01mfor\u001b[39;00m x \u001b[38;5;129;01min\u001b[39;00m str_list[\u001b[38;5;241m0\u001b[39m] \u001b[38;5;28;01mfor\u001b[39;00m y \u001b[38;5;129;01min\u001b[39;00m str_list[\u001b[38;5;241m1\u001b[39m]}\n\u001b[1;32m---> 43\u001b[0m \u001b[38;5;28mprint\u001b[39m(pair_str[\u001b[38;5;124m\"\u001b[39m\u001b[38;5;124mab\u001b[39m\u001b[38;5;124m\"\u001b[39m, \u001b[38;5;124m\"\u001b[39m\u001b[38;5;124mcd\u001b[39m\u001b[38;5;124m\"\u001b[39m])\n",
      "\u001b[1;31mTypeError\u001b[0m: 'function' object is not subscriptable"
     ]
    }
   ],
   "source": [
    "# Challenge 1:\n",
    "def categorize_members(data):\n",
    "    return[\"senior\" if age > 55 and handicap > 7 else \"open\" for age,handicap in data]\n",
    "\n",
    "input =  [[18, 20], [45, 2], [61, 12], [37, 6], [21, 21], [78, 9]]\n",
    "\n",
    "def sum_a(number):\n",
    "    if number < 0:\n",
    "        return 0\n",
    "    return sum( x for x in range(number) if x%3 ==0 or x%5 ==0)\n",
    "\n",
    "def digitize(n):\n",
    "    return[int(digit) for digit in str(n)]\n",
    "\n",
    "def reverse(data):\n",
    "    return[ x*(-1) for x in data]\n",
    "\n",
    "\n",
    "\n",
    "# Challenge 2:\n",
    "\n",
    "squar_dic = { a: a**2 for a in range(16)}\n",
    "\n",
    "def pair_int(list_a,list_b):\n",
    "    return[(a,b) for a in list_a for b in list_b]\n",
    "\n",
    "def re_pair(dict):\n",
    "    return[(key,value) for key,values in dict.items() for value in values]\n",
    "\n",
    "print(re_pair({\"a\": [1, 2], \"b\": [3, 4]}))\n",
    "\n",
    "\n",
    "\n",
    "# bonus :\n",
    "def pair2(tuple_list):\n",
    "    return[(x,y) for list1, list2 in tuple_list for x in list1 for y in list2]\n",
    "\n",
    "print(pair2([([1, 2], [3, 4]), ([5, 6], [7, 8])]))\n",
    "\n",
    "def pair_str(str_list):\n",
    "    return{(x,y) for x in str_list[0] for y in str_list[1]}\n",
    "\n",
    "print(pair_str[\"ab\", \"cd\"])\n"
   ]
  },
  {
   "cell_type": "code",
   "execution_count": null,
   "id": "5f0870d6-95a5-4904-8c89-c70bf7d621b8",
   "metadata": {},
   "outputs": [],
   "source": []
  }
 ],
 "metadata": {
  "kernelspec": {
   "display_name": "Python 3 (ipykernel)",
   "language": "python",
   "name": "python3"
  },
  "language_info": {
   "codemirror_mode": {
    "name": "ipython",
    "version": 3
   },
   "file_extension": ".py",
   "mimetype": "text/x-python",
   "name": "python",
   "nbconvert_exporter": "python",
   "pygments_lexer": "ipython3",
   "version": "3.12.4"
  }
 },
 "nbformat": 4,
 "nbformat_minor": 5
}
